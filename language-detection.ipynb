{
 "cells": [
  {
   "cell_type": "code",
   "execution_count": 1,
   "id": "482e7267",
   "metadata": {
    "_cell_guid": "35d858d4-e8ca-422a-b0f6-3d48b07d8217",
    "_uuid": "47c1ab63-5100-4bff-b560-8cfe6915985a",
    "collapsed": false,
    "execution": {
     "iopub.execute_input": "2025-06-27T11:20:06.882948Z",
     "iopub.status.busy": "2025-06-27T11:20:06.882543Z",
     "iopub.status.idle": "2025-06-27T11:20:08.410513Z",
     "shell.execute_reply": "2025-06-27T11:20:08.409717Z"
    },
    "jupyter": {
     "outputs_hidden": false
    },
    "papermill": {
     "duration": 1.53736,
     "end_time": "2025-06-27T11:20:08.411764",
     "exception": false,
     "start_time": "2025-06-27T11:20:06.874404",
     "status": "completed"
    },
    "tags": []
   },
   "outputs": [
    {
     "name": "stdout",
     "output_type": "stream",
     "text": [
      "/kaggle/input/language-detection/Language Detection.csv\n"
     ]
    }
   ],
   "source": [
    "# This Python 3 environment comes with many helpful analytics libraries installed\n",
    "# It is defined by the kaggle/python Docker image: https://github.com/kaggle/docker-python\n",
    "# For example, here's several helpful packages to load\n",
    "\n",
    "import numpy as np # linear algebra\n",
    "import pandas as pd # data processing, CSV file I/O (e.g. pd.read_csv)\n",
    "\n",
    "# Input data files are available in the read-only \"../input/\" directory\n",
    "# For example, running this (by clicking run or pressing Shift+Enter) will list all files under the input directory\n",
    "\n",
    "import os\n",
    "for dirname, _, filenames in os.walk('/kaggle/input'):\n",
    "    for filename in filenames:\n",
    "        print(os.path.join(dirname, filename))\n",
    "\n",
    "# You can write up to 20GB to the current directory (/kaggle/working/) that gets preserved as output when you create a version using \"Save & Run All\" \n",
    "# You can also write temporary files to /kaggle/temp/, but they won't be saved outside of the current session"
   ]
  },
  {
   "cell_type": "code",
   "execution_count": 2,
   "id": "c4b2921a",
   "metadata": {
    "_cell_guid": "297892c2-c8fa-47a0-88a6-86b889566e2d",
    "_uuid": "3cd627ac-83a7-43ac-823b-df1e97bd90d4",
    "collapsed": false,
    "execution": {
     "iopub.execute_input": "2025-06-27T11:20:08.420249Z",
     "iopub.status.busy": "2025-06-27T11:20:08.419931Z",
     "iopub.status.idle": "2025-06-27T11:20:10.078764Z",
     "shell.execute_reply": "2025-06-27T11:20:10.078212Z"
    },
    "jupyter": {
     "outputs_hidden": false
    },
    "papermill": {
     "duration": 1.664284,
     "end_time": "2025-06-27T11:20:10.080113",
     "exception": false,
     "start_time": "2025-06-27T11:20:08.415829",
     "status": "completed"
    },
    "tags": []
   },
   "outputs": [],
   "source": [
    "import pandas as pd\n",
    "import numpy as np\n",
    "import re\n",
    "import seaborn as sns\n",
    "import matplotlib.pyplot as plt\n",
    "import pickle\n",
    "\n",
    "import warnings\n",
    "warnings.simplefilter(\"ignore\")"
   ]
  },
  {
   "cell_type": "code",
   "execution_count": 3,
   "id": "52be8ac8",
   "metadata": {
    "_cell_guid": "75d6cf24-dffc-444a-87f6-dbaddc2092ad",
    "_uuid": "5d6951e4-8c5f-4f17-a83e-1d2c6774bfd9",
    "collapsed": false,
    "execution": {
     "iopub.execute_input": "2025-06-27T11:20:10.088315Z",
     "iopub.status.busy": "2025-06-27T11:20:10.088018Z",
     "iopub.status.idle": "2025-06-27T11:20:10.160448Z",
     "shell.execute_reply": "2025-06-27T11:20:10.159751Z"
    },
    "jupyter": {
     "outputs_hidden": false
    },
    "papermill": {
     "duration": 0.077641,
     "end_time": "2025-06-27T11:20:10.161573",
     "exception": false,
     "start_time": "2025-06-27T11:20:10.083932",
     "status": "completed"
    },
    "tags": []
   },
   "outputs": [],
   "source": [
    "data = pd.read_csv(\"/kaggle/input/language-detection/Language Detection.csv\")"
   ]
  },
  {
   "cell_type": "code",
   "execution_count": 4,
   "id": "6fbd7d4c",
   "metadata": {
    "_cell_guid": "c34b7bf6-ca39-45ce-9663-9b07a63d7d51",
    "_uuid": "2dff3aff-b903-4f60-829f-f35e65518ce0",
    "collapsed": false,
    "execution": {
     "iopub.execute_input": "2025-06-27T11:20:10.169370Z",
     "iopub.status.busy": "2025-06-27T11:20:10.169166Z",
     "iopub.status.idle": "2025-06-27T11:20:10.187271Z",
     "shell.execute_reply": "2025-06-27T11:20:10.186673Z"
    },
    "jupyter": {
     "outputs_hidden": false
    },
    "papermill": {
     "duration": 0.023103,
     "end_time": "2025-06-27T11:20:10.188270",
     "exception": false,
     "start_time": "2025-06-27T11:20:10.165167",
     "status": "completed"
    },
    "tags": []
   },
   "outputs": [
    {
     "data": {
      "text/html": [
       "<div>\n",
       "<style scoped>\n",
       "    .dataframe tbody tr th:only-of-type {\n",
       "        vertical-align: middle;\n",
       "    }\n",
       "\n",
       "    .dataframe tbody tr th {\n",
       "        vertical-align: top;\n",
       "    }\n",
       "\n",
       "    .dataframe thead th {\n",
       "        text-align: right;\n",
       "    }\n",
       "</style>\n",
       "<table border=\"1\" class=\"dataframe\">\n",
       "  <thead>\n",
       "    <tr style=\"text-align: right;\">\n",
       "      <th></th>\n",
       "      <th>Text</th>\n",
       "      <th>Language</th>\n",
       "    </tr>\n",
       "  </thead>\n",
       "  <tbody>\n",
       "    <tr>\n",
       "      <th>0</th>\n",
       "      <td>Nature, in the broadest sense, is the natural...</td>\n",
       "      <td>English</td>\n",
       "    </tr>\n",
       "    <tr>\n",
       "      <th>1</th>\n",
       "      <td>\"Nature\" can refer to the phenomena of the phy...</td>\n",
       "      <td>English</td>\n",
       "    </tr>\n",
       "    <tr>\n",
       "      <th>2</th>\n",
       "      <td>The study of nature is a large, if not the onl...</td>\n",
       "      <td>English</td>\n",
       "    </tr>\n",
       "    <tr>\n",
       "      <th>3</th>\n",
       "      <td>Although humans are part of nature, human acti...</td>\n",
       "      <td>English</td>\n",
       "    </tr>\n",
       "    <tr>\n",
       "      <th>4</th>\n",
       "      <td>[1] The word nature is borrowed from the Old F...</td>\n",
       "      <td>English</td>\n",
       "    </tr>\n",
       "  </tbody>\n",
       "</table>\n",
       "</div>"
      ],
      "text/plain": [
       "                                                Text Language\n",
       "0   Nature, in the broadest sense, is the natural...  English\n",
       "1  \"Nature\" can refer to the phenomena of the phy...  English\n",
       "2  The study of nature is a large, if not the onl...  English\n",
       "3  Although humans are part of nature, human acti...  English\n",
       "4  [1] The word nature is borrowed from the Old F...  English"
      ]
     },
     "execution_count": 4,
     "metadata": {},
     "output_type": "execute_result"
    }
   ],
   "source": [
    "data.head()"
   ]
  },
  {
   "cell_type": "code",
   "execution_count": 5,
   "id": "f75356bd",
   "metadata": {
    "_cell_guid": "de673852-0e8f-417a-a09d-389498c9965e",
    "_uuid": "c719e147-c7b8-44b7-a230-ab0347b152b3",
    "collapsed": false,
    "execution": {
     "iopub.execute_input": "2025-06-27T11:20:10.196267Z",
     "iopub.status.busy": "2025-06-27T11:20:10.196062Z",
     "iopub.status.idle": "2025-06-27T11:20:10.200678Z",
     "shell.execute_reply": "2025-06-27T11:20:10.200171Z"
    },
    "jupyter": {
     "outputs_hidden": false
    },
    "papermill": {
     "duration": 0.009741,
     "end_time": "2025-06-27T11:20:10.201685",
     "exception": false,
     "start_time": "2025-06-27T11:20:10.191944",
     "status": "completed"
    },
    "tags": []
   },
   "outputs": [],
   "source": [
    "x = data[\"Text\"]\n",
    "y = data[\"Language\"]"
   ]
  },
  {
   "cell_type": "markdown",
   "id": "5662af1b",
   "metadata": {
    "_cell_guid": "31db32d7-9a51-465b-a18f-166d73ea669e",
    "_uuid": "8413eaed-d24c-4b21-b1f1-fd2488e2f27a",
    "collapsed": false,
    "jupyter": {
     "outputs_hidden": false
    },
    "papermill": {
     "duration": 0.003344,
     "end_time": "2025-06-27T11:20:10.208453",
     "exception": false,
     "start_time": "2025-06-27T11:20:10.205109",
     "status": "completed"
    },
    "tags": []
   },
   "source": [
    "LabelEncoder assigns a number for each language class"
   ]
  },
  {
   "cell_type": "code",
   "execution_count": 6,
   "id": "e2af2872",
   "metadata": {
    "_cell_guid": "562a14b9-df7a-47c2-b008-b2bf06f159ec",
    "_uuid": "89044fd0-2467-4e0f-8ff0-14ebee6b693f",
    "collapsed": false,
    "execution": {
     "iopub.execute_input": "2025-06-27T11:20:10.216201Z",
     "iopub.status.busy": "2025-06-27T11:20:10.215982Z",
     "iopub.status.idle": "2025-06-27T11:20:10.446994Z",
     "shell.execute_reply": "2025-06-27T11:20:10.446444Z"
    },
    "jupyter": {
     "outputs_hidden": false
    },
    "papermill": {
     "duration": 0.236364,
     "end_time": "2025-06-27T11:20:10.448376",
     "exception": false,
     "start_time": "2025-06-27T11:20:10.212012",
     "status": "completed"
    },
    "tags": []
   },
   "outputs": [],
   "source": [
    "from sklearn.preprocessing import LabelEncoder\n",
    "le = LabelEncoder()\n",
    "y = le.fit_transform(y)"
   ]
  },
  {
   "cell_type": "code",
   "execution_count": 7,
   "id": "95f871dd",
   "metadata": {
    "_cell_guid": "849ec623-9d47-4edf-ada2-a53d020abe61",
    "_uuid": "699da6c8-3a74-4241-af17-5fb045c237b5",
    "collapsed": false,
    "execution": {
     "iopub.execute_input": "2025-06-27T11:20:10.456742Z",
     "iopub.status.busy": "2025-06-27T11:20:10.456521Z",
     "iopub.status.idle": "2025-06-27T11:20:10.461194Z",
     "shell.execute_reply": "2025-06-27T11:20:10.460527Z"
    },
    "jupyter": {
     "outputs_hidden": false
    },
    "papermill": {
     "duration": 0.009856,
     "end_time": "2025-06-27T11:20:10.462203",
     "exception": false,
     "start_time": "2025-06-27T11:20:10.452347",
     "status": "completed"
    },
    "tags": []
   },
   "outputs": [
    {
     "data": {
      "text/plain": [
       "array(['Arabic', 'Danish', 'Dutch', 'English', 'French', 'German',\n",
       "       'Greek', 'Hindi', 'Italian', 'Kannada', 'Malayalam', 'Portugeese',\n",
       "       'Russian', 'Spanish', 'Sweedish', 'Tamil', 'Turkish'], dtype=object)"
      ]
     },
     "execution_count": 7,
     "metadata": {},
     "output_type": "execute_result"
    }
   ],
   "source": [
    "le.classes_"
   ]
  },
  {
   "cell_type": "code",
   "execution_count": 8,
   "id": "cb594a0e",
   "metadata": {
    "_cell_guid": "c7490061-d6d4-4580-8e6e-d359273b3f02",
    "_uuid": "964ab165-1000-46e7-ac46-f3916b87d029",
    "collapsed": false,
    "execution": {
     "iopub.execute_input": "2025-06-27T11:20:10.470366Z",
     "iopub.status.busy": "2025-06-27T11:20:10.469891Z",
     "iopub.status.idle": "2025-06-27T11:20:10.519425Z",
     "shell.execute_reply": "2025-06-27T11:20:10.518751Z"
    },
    "jupyter": {
     "outputs_hidden": false
    },
    "papermill": {
     "duration": 0.054826,
     "end_time": "2025-06-27T11:20:10.520590",
     "exception": false,
     "start_time": "2025-06-27T11:20:10.465764",
     "status": "completed"
    },
    "tags": []
   },
   "outputs": [],
   "source": [
    "data_list = []\n",
    "for text in x:\n",
    "    text = re.sub(r'[!@#$(),\\n\"%^*?\\:;~`0-9]', ' ', text)\n",
    "    text = re.sub(r'[[]]', ' ', text)\n",
    "    text = text.lower()\n",
    "    data_list.append(text)"
   ]
  },
  {
   "cell_type": "code",
   "execution_count": 9,
   "id": "5c180ef3",
   "metadata": {
    "_cell_guid": "8f10e5cc-da24-4e22-9454-faa35e54907a",
    "_uuid": "defe5114-a1ab-4fab-8197-4ef4fd2e057b",
    "collapsed": false,
    "execution": {
     "iopub.execute_input": "2025-06-27T11:20:10.528860Z",
     "iopub.status.busy": "2025-06-27T11:20:10.528232Z",
     "iopub.status.idle": "2025-06-27T11:20:10.639694Z",
     "shell.execute_reply": "2025-06-27T11:20:10.638931Z"
    },
    "jupyter": {
     "outputs_hidden": false
    },
    "papermill": {
     "duration": 0.116871,
     "end_time": "2025-06-27T11:20:10.641046",
     "exception": false,
     "start_time": "2025-06-27T11:20:10.524175",
     "status": "completed"
    },
    "tags": []
   },
   "outputs": [],
   "source": [
    "from sklearn.model_selection import train_test_split\n",
    "x_train, x_test, y_train, y_test = train_test_split(x, y, test_size=0.20)"
   ]
  },
  {
   "cell_type": "markdown",
   "id": "2af591bc",
   "metadata": {
    "_cell_guid": "a0101158-a0a3-40d8-ae03-22d559274e2c",
    "_uuid": "8b813a12-d6fb-4376-8270-6df77019e2b1",
    "collapsed": false,
    "jupyter": {
     "outputs_hidden": false
    },
    "papermill": {
     "duration": 0.003618,
     "end_time": "2025-06-27T11:20:10.648494",
     "exception": false,
     "start_time": "2025-06-27T11:20:10.644876",
     "status": "completed"
    },
    "tags": []
   },
   "source": [
    "fit nad transform x_train"
   ]
  },
  {
   "cell_type": "code",
   "execution_count": 10,
   "id": "4b6d744a",
   "metadata": {
    "_cell_guid": "3287e475-2305-4cc2-b73e-22e647f85a37",
    "_uuid": "d0c7cddf-8a79-43c3-88b5-5054b8a7dd0e",
    "collapsed": false,
    "execution": {
     "iopub.execute_input": "2025-06-27T11:20:10.657046Z",
     "iopub.status.busy": "2025-06-27T11:20:10.656665Z",
     "iopub.status.idle": "2025-06-27T11:20:11.356349Z",
     "shell.execute_reply": "2025-06-27T11:20:11.355744Z"
    },
    "jupyter": {
     "outputs_hidden": false
    },
    "papermill": {
     "duration": 0.705242,
     "end_time": "2025-06-27T11:20:11.357732",
     "exception": false,
     "start_time": "2025-06-27T11:20:10.652490",
     "status": "completed"
    },
    "tags": []
   },
   "outputs": [],
   "source": [
    "from sklearn.feature_extraction.text import CountVectorizer\n",
    "cv = CountVectorizer()\n",
    "cv.fit(x_train)\n",
    "\n",
    "x_train = cv.transform(x_train).toarray()\n",
    "x_test = cv.transform(x_test).toarray()"
   ]
  },
  {
   "cell_type": "markdown",
   "id": "5c4528df",
   "metadata": {
    "_cell_guid": "8ff927b9-b7fb-4de7-af8e-367ec55e73fa",
    "_uuid": "11f4e609-b14c-417a-b684-246218d31350",
    "collapsed": false,
    "jupyter": {
     "outputs_hidden": false
    },
    "papermill": {
     "duration": 0.003469,
     "end_time": "2025-06-27T11:20:11.365185",
     "exception": false,
     "start_time": "2025-06-27T11:20:11.361716",
     "status": "completed"
    },
    "tags": []
   },
   "source": [
    "using naive bayes classifier"
   ]
  },
  {
   "cell_type": "code",
   "execution_count": 11,
   "id": "f910e051",
   "metadata": {
    "_cell_guid": "11105377-4dcc-4985-8dae-886b9b5d1364",
    "_uuid": "d209c5f7-104c-4381-a106-0658a292ee21",
    "collapsed": false,
    "execution": {
     "iopub.execute_input": "2025-06-27T11:20:11.373477Z",
     "iopub.status.busy": "2025-06-27T11:20:11.373270Z",
     "iopub.status.idle": "2025-06-27T11:21:33.915871Z",
     "shell.execute_reply": "2025-06-27T11:21:33.915142Z"
    },
    "jupyter": {
     "outputs_hidden": false
    },
    "papermill": {
     "duration": 82.551811,
     "end_time": "2025-06-27T11:21:33.920518",
     "exception": false,
     "start_time": "2025-06-27T11:20:11.368707",
     "status": "completed"
    },
    "tags": []
   },
   "outputs": [
    {
     "data": {
      "text/html": [
       "<style>#sk-container-id-1 {color: black;background-color: white;}#sk-container-id-1 pre{padding: 0;}#sk-container-id-1 div.sk-toggleable {background-color: white;}#sk-container-id-1 label.sk-toggleable__label {cursor: pointer;display: block;width: 100%;margin-bottom: 0;padding: 0.3em;box-sizing: border-box;text-align: center;}#sk-container-id-1 label.sk-toggleable__label-arrow:before {content: \"▸\";float: left;margin-right: 0.25em;color: #696969;}#sk-container-id-1 label.sk-toggleable__label-arrow:hover:before {color: black;}#sk-container-id-1 div.sk-estimator:hover label.sk-toggleable__label-arrow:before {color: black;}#sk-container-id-1 div.sk-toggleable__content {max-height: 0;max-width: 0;overflow: hidden;text-align: left;background-color: #f0f8ff;}#sk-container-id-1 div.sk-toggleable__content pre {margin: 0.2em;color: black;border-radius: 0.25em;background-color: #f0f8ff;}#sk-container-id-1 input.sk-toggleable__control:checked~div.sk-toggleable__content {max-height: 200px;max-width: 100%;overflow: auto;}#sk-container-id-1 input.sk-toggleable__control:checked~label.sk-toggleable__label-arrow:before {content: \"▾\";}#sk-container-id-1 div.sk-estimator input.sk-toggleable__control:checked~label.sk-toggleable__label {background-color: #d4ebff;}#sk-container-id-1 div.sk-label input.sk-toggleable__control:checked~label.sk-toggleable__label {background-color: #d4ebff;}#sk-container-id-1 input.sk-hidden--visually {border: 0;clip: rect(1px 1px 1px 1px);clip: rect(1px, 1px, 1px, 1px);height: 1px;margin: -1px;overflow: hidden;padding: 0;position: absolute;width: 1px;}#sk-container-id-1 div.sk-estimator {font-family: monospace;background-color: #f0f8ff;border: 1px dotted black;border-radius: 0.25em;box-sizing: border-box;margin-bottom: 0.5em;}#sk-container-id-1 div.sk-estimator:hover {background-color: #d4ebff;}#sk-container-id-1 div.sk-parallel-item::after {content: \"\";width: 100%;border-bottom: 1px solid gray;flex-grow: 1;}#sk-container-id-1 div.sk-label:hover label.sk-toggleable__label {background-color: #d4ebff;}#sk-container-id-1 div.sk-serial::before {content: \"\";position: absolute;border-left: 1px solid gray;box-sizing: border-box;top: 0;bottom: 0;left: 50%;z-index: 0;}#sk-container-id-1 div.sk-serial {display: flex;flex-direction: column;align-items: center;background-color: white;padding-right: 0.2em;padding-left: 0.2em;position: relative;}#sk-container-id-1 div.sk-item {position: relative;z-index: 1;}#sk-container-id-1 div.sk-parallel {display: flex;align-items: stretch;justify-content: center;background-color: white;position: relative;}#sk-container-id-1 div.sk-item::before, #sk-container-id-1 div.sk-parallel-item::before {content: \"\";position: absolute;border-left: 1px solid gray;box-sizing: border-box;top: 0;bottom: 0;left: 50%;z-index: -1;}#sk-container-id-1 div.sk-parallel-item {display: flex;flex-direction: column;z-index: 1;position: relative;background-color: white;}#sk-container-id-1 div.sk-parallel-item:first-child::after {align-self: flex-end;width: 50%;}#sk-container-id-1 div.sk-parallel-item:last-child::after {align-self: flex-start;width: 50%;}#sk-container-id-1 div.sk-parallel-item:only-child::after {width: 0;}#sk-container-id-1 div.sk-dashed-wrapped {border: 1px dashed gray;margin: 0 0.4em 0.5em 0.4em;box-sizing: border-box;padding-bottom: 0.4em;background-color: white;}#sk-container-id-1 div.sk-label label {font-family: monospace;font-weight: bold;display: inline-block;line-height: 1.2em;}#sk-container-id-1 div.sk-label-container {text-align: center;}#sk-container-id-1 div.sk-container {/* jupyter's `normalize.less` sets `[hidden] { display: none; }` but bootstrap.min.css set `[hidden] { display: none !important; }` so we also need the `!important` here to be able to override the default hidden behavior on the sphinx rendered scikit-learn.org. See: https://github.com/scikit-learn/scikit-learn/issues/21755 */display: inline-block !important;position: relative;}#sk-container-id-1 div.sk-text-repr-fallback {display: none;}</style><div id=\"sk-container-id-1\" class=\"sk-top-container\"><div class=\"sk-text-repr-fallback\"><pre>MultinomialNB()</pre><b>In a Jupyter environment, please rerun this cell to show the HTML representation or trust the notebook. <br />On GitHub, the HTML representation is unable to render, please try loading this page with nbviewer.org.</b></div><div class=\"sk-container\" hidden><div class=\"sk-item\"><div class=\"sk-estimator sk-toggleable\"><input class=\"sk-toggleable__control sk-hidden--visually\" id=\"sk-estimator-id-1\" type=\"checkbox\" checked><label for=\"sk-estimator-id-1\" class=\"sk-toggleable__label sk-toggleable__label-arrow\">MultinomialNB</label><div class=\"sk-toggleable__content\"><pre>MultinomialNB()</pre></div></div></div></div></div>"
      ],
      "text/plain": [
       "MultinomialNB()"
      ]
     },
     "execution_count": 11,
     "metadata": {},
     "output_type": "execute_result"
    }
   ],
   "source": [
    "from sklearn.naive_bayes import MultinomialNB\n",
    "\n",
    "model = MultinomialNB()\n",
    "model.fit(x_train, y_train)"
   ]
  },
  {
   "cell_type": "code",
   "execution_count": 12,
   "id": "d552556b",
   "metadata": {
    "_cell_guid": "05d2df0b-9640-4185-a84e-9b99334c57f0",
    "_uuid": "395ecefd-1bab-4480-94d2-efa5193c71d6",
    "collapsed": false,
    "execution": {
     "iopub.execute_input": "2025-06-27T11:21:33.929403Z",
     "iopub.status.busy": "2025-06-27T11:21:33.928720Z",
     "iopub.status.idle": "2025-06-27T11:21:34.300767Z",
     "shell.execute_reply": "2025-06-27T11:21:34.299808Z"
    },
    "jupyter": {
     "outputs_hidden": false
    },
    "papermill": {
     "duration": 0.378033,
     "end_time": "2025-06-27T11:21:34.302357",
     "exception": false,
     "start_time": "2025-06-27T11:21:33.924324",
     "status": "completed"
    },
    "tags": []
   },
   "outputs": [],
   "source": [
    "y_pred = model.predict(x_test)"
   ]
  },
  {
   "cell_type": "code",
   "execution_count": 13,
   "id": "34adf517",
   "metadata": {
    "_cell_guid": "36bb2e07-869e-41b4-a426-fee49418f48c",
    "_uuid": "cdc97164-38a9-4665-9757-209f76d2144b",
    "collapsed": false,
    "execution": {
     "iopub.execute_input": "2025-06-27T11:21:34.313057Z",
     "iopub.status.busy": "2025-06-27T11:21:34.312819Z",
     "iopub.status.idle": "2025-06-27T11:21:34.326592Z",
     "shell.execute_reply": "2025-06-27T11:21:34.326143Z"
    },
    "jupyter": {
     "outputs_hidden": false
    },
    "papermill": {
     "duration": 0.020054,
     "end_time": "2025-06-27T11:21:34.327615",
     "exception": false,
     "start_time": "2025-06-27T11:21:34.307561",
     "status": "completed"
    },
    "tags": []
   },
   "outputs": [],
   "source": [
    "from sklearn.metrics import accuracy_score, confusion_matrix, classification_report\n",
    "\n",
    "ac = accuracy_score(y_test, y_pred)\n",
    "cm = confusion_matrix(y_test, y_pred)\n",
    "cr = classification_report(y_test, y_pred)"
   ]
  },
  {
   "cell_type": "code",
   "execution_count": 14,
   "id": "1bd41a8e",
   "metadata": {
    "_cell_guid": "cdb334ea-98b6-447f-9dda-a43b1dd8405c",
    "_uuid": "12c861d4-50df-4532-89a6-2a61d195020e",
    "collapsed": false,
    "execution": {
     "iopub.execute_input": "2025-06-27T11:21:34.335607Z",
     "iopub.status.busy": "2025-06-27T11:21:34.335433Z",
     "iopub.status.idle": "2025-06-27T11:21:34.339036Z",
     "shell.execute_reply": "2025-06-27T11:21:34.338354Z"
    },
    "jupyter": {
     "outputs_hidden": false
    },
    "papermill": {
     "duration": 0.008648,
     "end_time": "2025-06-27T11:21:34.339957",
     "exception": false,
     "start_time": "2025-06-27T11:21:34.331309",
     "status": "completed"
    },
    "tags": []
   },
   "outputs": [
    {
     "name": "stdout",
     "output_type": "stream",
     "text": [
      "Accuray is:  0.9772727272727273\n"
     ]
    }
   ],
   "source": [
    "print(\"Accuray is: \", ac)"
   ]
  },
  {
   "cell_type": "code",
   "execution_count": 15,
   "id": "698d3160",
   "metadata": {
    "_cell_guid": "99c3d3ab-0198-4cc0-aa77-a9500e901f3e",
    "_uuid": "d77e8061-9cc5-46d8-a715-e8d22ad21855",
    "collapsed": false,
    "execution": {
     "iopub.execute_input": "2025-06-27T11:21:34.348215Z",
     "iopub.status.busy": "2025-06-27T11:21:34.347801Z",
     "iopub.status.idle": "2025-06-27T11:21:34.586342Z",
     "shell.execute_reply": "2025-06-27T11:21:34.585610Z"
    },
    "jupyter": {
     "outputs_hidden": false
    },
    "papermill": {
     "duration": 0.243977,
     "end_time": "2025-06-27T11:21:34.587593",
     "exception": false,
     "start_time": "2025-06-27T11:21:34.343616",
     "status": "completed"
    },
    "tags": []
   },
   "outputs": [
    {
     "data": {
      "text/html": [
       "<style>#sk-container-id-2 {color: black;background-color: white;}#sk-container-id-2 pre{padding: 0;}#sk-container-id-2 div.sk-toggleable {background-color: white;}#sk-container-id-2 label.sk-toggleable__label {cursor: pointer;display: block;width: 100%;margin-bottom: 0;padding: 0.3em;box-sizing: border-box;text-align: center;}#sk-container-id-2 label.sk-toggleable__label-arrow:before {content: \"▸\";float: left;margin-right: 0.25em;color: #696969;}#sk-container-id-2 label.sk-toggleable__label-arrow:hover:before {color: black;}#sk-container-id-2 div.sk-estimator:hover label.sk-toggleable__label-arrow:before {color: black;}#sk-container-id-2 div.sk-toggleable__content {max-height: 0;max-width: 0;overflow: hidden;text-align: left;background-color: #f0f8ff;}#sk-container-id-2 div.sk-toggleable__content pre {margin: 0.2em;color: black;border-radius: 0.25em;background-color: #f0f8ff;}#sk-container-id-2 input.sk-toggleable__control:checked~div.sk-toggleable__content {max-height: 200px;max-width: 100%;overflow: auto;}#sk-container-id-2 input.sk-toggleable__control:checked~label.sk-toggleable__label-arrow:before {content: \"▾\";}#sk-container-id-2 div.sk-estimator input.sk-toggleable__control:checked~label.sk-toggleable__label {background-color: #d4ebff;}#sk-container-id-2 div.sk-label input.sk-toggleable__control:checked~label.sk-toggleable__label {background-color: #d4ebff;}#sk-container-id-2 input.sk-hidden--visually {border: 0;clip: rect(1px 1px 1px 1px);clip: rect(1px, 1px, 1px, 1px);height: 1px;margin: -1px;overflow: hidden;padding: 0;position: absolute;width: 1px;}#sk-container-id-2 div.sk-estimator {font-family: monospace;background-color: #f0f8ff;border: 1px dotted black;border-radius: 0.25em;box-sizing: border-box;margin-bottom: 0.5em;}#sk-container-id-2 div.sk-estimator:hover {background-color: #d4ebff;}#sk-container-id-2 div.sk-parallel-item::after {content: \"\";width: 100%;border-bottom: 1px solid gray;flex-grow: 1;}#sk-container-id-2 div.sk-label:hover label.sk-toggleable__label {background-color: #d4ebff;}#sk-container-id-2 div.sk-serial::before {content: \"\";position: absolute;border-left: 1px solid gray;box-sizing: border-box;top: 0;bottom: 0;left: 50%;z-index: 0;}#sk-container-id-2 div.sk-serial {display: flex;flex-direction: column;align-items: center;background-color: white;padding-right: 0.2em;padding-left: 0.2em;position: relative;}#sk-container-id-2 div.sk-item {position: relative;z-index: 1;}#sk-container-id-2 div.sk-parallel {display: flex;align-items: stretch;justify-content: center;background-color: white;position: relative;}#sk-container-id-2 div.sk-item::before, #sk-container-id-2 div.sk-parallel-item::before {content: \"\";position: absolute;border-left: 1px solid gray;box-sizing: border-box;top: 0;bottom: 0;left: 50%;z-index: -1;}#sk-container-id-2 div.sk-parallel-item {display: flex;flex-direction: column;z-index: 1;position: relative;background-color: white;}#sk-container-id-2 div.sk-parallel-item:first-child::after {align-self: flex-end;width: 50%;}#sk-container-id-2 div.sk-parallel-item:last-child::after {align-self: flex-start;width: 50%;}#sk-container-id-2 div.sk-parallel-item:only-child::after {width: 0;}#sk-container-id-2 div.sk-dashed-wrapped {border: 1px dashed gray;margin: 0 0.4em 0.5em 0.4em;box-sizing: border-box;padding-bottom: 0.4em;background-color: white;}#sk-container-id-2 div.sk-label label {font-family: monospace;font-weight: bold;display: inline-block;line-height: 1.2em;}#sk-container-id-2 div.sk-label-container {text-align: center;}#sk-container-id-2 div.sk-container {/* jupyter's `normalize.less` sets `[hidden] { display: none; }` but bootstrap.min.css set `[hidden] { display: none !important; }` so we also need the `!important` here to be able to override the default hidden behavior on the sphinx rendered scikit-learn.org. See: https://github.com/scikit-learn/scikit-learn/issues/21755 */display: inline-block !important;position: relative;}#sk-container-id-2 div.sk-text-repr-fallback {display: none;}</style><div id=\"sk-container-id-2\" class=\"sk-top-container\"><div class=\"sk-text-repr-fallback\"><pre>Pipeline(steps=[(&#x27;vectorizer&#x27;, CountVectorizer()),\n",
       "                (&#x27;multinomialNB&#x27;, MultinomialNB())])</pre><b>In a Jupyter environment, please rerun this cell to show the HTML representation or trust the notebook. <br />On GitHub, the HTML representation is unable to render, please try loading this page with nbviewer.org.</b></div><div class=\"sk-container\" hidden><div class=\"sk-item sk-dashed-wrapped\"><div class=\"sk-label-container\"><div class=\"sk-label sk-toggleable\"><input class=\"sk-toggleable__control sk-hidden--visually\" id=\"sk-estimator-id-2\" type=\"checkbox\" ><label for=\"sk-estimator-id-2\" class=\"sk-toggleable__label sk-toggleable__label-arrow\">Pipeline</label><div class=\"sk-toggleable__content\"><pre>Pipeline(steps=[(&#x27;vectorizer&#x27;, CountVectorizer()),\n",
       "                (&#x27;multinomialNB&#x27;, MultinomialNB())])</pre></div></div></div><div class=\"sk-serial\"><div class=\"sk-item\"><div class=\"sk-estimator sk-toggleable\"><input class=\"sk-toggleable__control sk-hidden--visually\" id=\"sk-estimator-id-3\" type=\"checkbox\" ><label for=\"sk-estimator-id-3\" class=\"sk-toggleable__label sk-toggleable__label-arrow\">CountVectorizer</label><div class=\"sk-toggleable__content\"><pre>CountVectorizer()</pre></div></div></div><div class=\"sk-item\"><div class=\"sk-estimator sk-toggleable\"><input class=\"sk-toggleable__control sk-hidden--visually\" id=\"sk-estimator-id-4\" type=\"checkbox\" ><label for=\"sk-estimator-id-4\" class=\"sk-toggleable__label sk-toggleable__label-arrow\">MultinomialNB</label><div class=\"sk-toggleable__content\"><pre>MultinomialNB()</pre></div></div></div></div></div></div></div>"
      ],
      "text/plain": [
       "Pipeline(steps=[('vectorizer', CountVectorizer()),\n",
       "                ('multinomialNB', MultinomialNB())])"
      ]
     },
     "execution_count": 15,
     "metadata": {},
     "output_type": "execute_result"
    }
   ],
   "source": [
    "# from sklearn.pipeline import Pipeline\n",
    "\n",
    "# pipe = Pipeline([('vectorizer', cv), ('multinomialNB', model)])\n",
    "# pipe.fit(x_train.astype(str), y_train)\n",
    "\n",
    "from sklearn.pipeline import Pipeline\n",
    "from sklearn.naive_bayes import MultinomialNB\n",
    "from sklearn.feature_extraction.text import CountVectorizer\n",
    "\n",
    "# Re-do the split on raw text instead of vectorized x_train\n",
    "x_train_text, x_test_text, y_train, y_test = train_test_split(data_list, y, test_size=0.2, random_state=42)\n",
    "\n",
    "pipe = Pipeline([\n",
    "    ('vectorizer', CountVectorizer()),\n",
    "    ('multinomialNB', MultinomialNB())\n",
    "])\n",
    "\n",
    "pipe.fit(x_train_text, y_train)\n"
   ]
  },
  {
   "cell_type": "code",
   "execution_count": 16,
   "id": "a369e386",
   "metadata": {
    "execution": {
     "iopub.execute_input": "2025-06-27T11:21:34.596625Z",
     "iopub.status.busy": "2025-06-27T11:21:34.596396Z",
     "iopub.status.idle": "2025-06-27T11:21:34.637281Z",
     "shell.execute_reply": "2025-06-27T11:21:34.636630Z"
    },
    "papermill": {
     "duration": 0.046439,
     "end_time": "2025-06-27T11:21:34.638301",
     "exception": false,
     "start_time": "2025-06-27T11:21:34.591862",
     "status": "completed"
    },
    "tags": []
   },
   "outputs": [
    {
     "name": "stdout",
     "output_type": "stream",
     "text": [
      "Accuracy is:  0.9821083172147002\n"
     ]
    }
   ],
   "source": [
    "# Predictions\n",
    "y_pred2 = pipe.predict(x_test_text)\n",
    "from sklearn.metrics import accuracy_score\n",
    "ac2 = accuracy_score(y_test, y_pred2)\n",
    "print(\"Accuracy is: \", ac2)"
   ]
  },
  {
   "cell_type": "code",
   "execution_count": 17,
   "id": "465a7345",
   "metadata": {
    "_cell_guid": "2170ffe9-bbc4-4970-bf81-7482d5710a56",
    "_uuid": "40ee0fb5-e9bb-466e-97cf-56c7d2153760",
    "collapsed": false,
    "execution": {
     "iopub.execute_input": "2025-06-27T11:21:34.647145Z",
     "iopub.status.busy": "2025-06-27T11:21:34.646884Z",
     "iopub.status.idle": "2025-06-27T11:21:34.649620Z",
     "shell.execute_reply": "2025-06-27T11:21:34.649131Z"
    },
    "jupyter": {
     "outputs_hidden": false
    },
    "papermill": {
     "duration": 0.008247,
     "end_time": "2025-06-27T11:21:34.650608",
     "exception": false,
     "start_time": "2025-06-27T11:21:34.642361",
     "status": "completed"
    },
    "tags": []
   },
   "outputs": [],
   "source": [
    "# y_pred2 = pipe.predict(x_test)\n",
    "# ac2 = accuaracy_score(y_test, y_pred2)\n",
    "# print('Accuracy is: ', ac2)"
   ]
  },
  {
   "cell_type": "code",
   "execution_count": 18,
   "id": "cdd9682f",
   "metadata": {
    "_cell_guid": "3c007426-fbda-4277-8ed6-8be09b33dbbe",
    "_uuid": "9b6f6efa-69e9-447c-8179-c7eee7416e64",
    "collapsed": false,
    "execution": {
     "iopub.execute_input": "2025-06-27T11:21:34.659266Z",
     "iopub.status.busy": "2025-06-27T11:21:34.659072Z",
     "iopub.status.idle": "2025-06-27T11:21:34.677617Z",
     "shell.execute_reply": "2025-06-27T11:21:34.676950Z"
    },
    "jupyter": {
     "outputs_hidden": false
    },
    "papermill": {
     "duration": 0.024059,
     "end_time": "2025-06-27T11:21:34.678685",
     "exception": false,
     "start_time": "2025-06-27T11:21:34.654626",
     "status": "completed"
    },
    "tags": []
   },
   "outputs": [],
   "source": [
    "with open('trained_pipeline-0.1.0.pkl','wb') as f:\n",
    "    pickle.dump(pipe, f)"
   ]
  },
  {
   "cell_type": "code",
   "execution_count": 19,
   "id": "e70cd771",
   "metadata": {
    "_cell_guid": "df9ff55e-119d-4949-b185-74cf1da22022",
    "_uuid": "7c749c24-3791-40ab-9038-e99693edfa4a",
    "collapsed": false,
    "execution": {
     "iopub.execute_input": "2025-06-27T11:21:34.687471Z",
     "iopub.status.busy": "2025-06-27T11:21:34.687264Z",
     "iopub.status.idle": "2025-06-27T11:21:34.693325Z",
     "shell.execute_reply": "2025-06-27T11:21:34.692753Z"
    },
    "jupyter": {
     "outputs_hidden": false
    },
    "papermill": {
     "duration": 0.011728,
     "end_time": "2025-06-27T11:21:34.694426",
     "exception": false,
     "start_time": "2025-06-27T11:21:34.682698",
     "status": "completed"
    },
    "tags": []
   },
   "outputs": [
    {
     "data": {
      "text/plain": [
       "('Italian', array([8]))"
      ]
     },
     "execution_count": 19,
     "metadata": {},
     "output_type": "execute_result"
    }
   ],
   "source": [
    "text = \"Hello, how are you?\"\n",
    "text = \"Ciao, come stai?\"\n",
    "#text = \"Hi, how are you?\"\n",
    "y = pipe.predict([text])\n",
    "le.classes_[y[0]], y"
   ]
  }
 ],
 "metadata": {
  "kaggle": {
   "accelerator": "nvidiaTeslaT4",
   "dataSources": [
    {
     "datasetId": 1150837,
     "sourceId": 1929264,
     "sourceType": "datasetVersion"
    }
   ],
   "dockerImageVersionId": 31041,
   "isGpuEnabled": true,
   "isInternetEnabled": true,
   "language": "python",
   "sourceType": "notebook"
  },
  "kernelspec": {
   "display_name": "Python 3",
   "language": "python",
   "name": "python3"
  },
  "language_info": {
   "codemirror_mode": {
    "name": "ipython",
    "version": 3
   },
   "file_extension": ".py",
   "mimetype": "text/x-python",
   "name": "python",
   "nbconvert_exporter": "python",
   "pygments_lexer": "ipython3",
   "version": "3.11.11"
  },
  "papermill": {
   "default_parameters": {},
   "duration": 92.886248,
   "end_time": "2025-06-27T11:21:35.215275",
   "environment_variables": {},
   "exception": null,
   "input_path": "__notebook__.ipynb",
   "output_path": "__notebook__.ipynb",
   "parameters": {},
   "start_time": "2025-06-27T11:20:02.329027",
   "version": "2.6.0"
  }
 },
 "nbformat": 4,
 "nbformat_minor": 5
}
